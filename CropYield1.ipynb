{
 "cells": [
  {
   "cell_type": "code",
   "execution_count": 13,
   "id": "8e7e9514-eff4-489c-a50d-b8470eb2af93",
   "metadata": {},
   "outputs": [
    {
     "name": "stdout",
     "output_type": "stream",
     "text": [
      "Mean Absolute Error: 0.0\n",
      "R-squared: 1.0\n",
      "Model saved as crop_yield_model.pkl\n"
     ]
    }
   ],
   "source": [
    "import pandas as pd\n",
    "import numpy as np\n",
    "from sklearn.preprocessing import StandardScaler, LabelEncoder\n",
    "from sklearn.model_selection import train_test_split\n",
    "from sklearn.ensemble import RandomForestRegressor\n",
    "from sklearn.metrics import mean_absolute_error, r2_score\n",
    "import joblib\n",
    "\n",
    "# PART 1: Load and Process Crop Data\n",
    "crop_data = pd.read_csv(\"yield_df.csv\")\n",
    "crop_data.rename(columns={\"Area\": \"Country\"}, inplace=True)\n",
    "crop_data = crop_data.drop(columns=['avg_temp', 'pesticides_tonnes', 'average_rain_fall_mm_per_year'])\n",
    "crop_data = crop_data[['Country', 'Item', 'Year', 'hg/ha_yield']]\n",
    "crop_data.rename(columns={'Item': 'Crop', 'hg/ha_yield': 'Yield'}, inplace=True)\n",
    "crop_data = crop_data.dropna()\n",
    "\n",
    "# PART 2: Load and Process Climate Data\n",
    "climate_data = pd.read_csv(\"climate_data_processed.csv\")\n",
    "\n",
    "# PART 3: Merge Crop and Climate Data\n",
    "merged_data = pd.merge(crop_data, climate_data, on=[\"Country\", \"Year\"], how=\"inner\")\n",
    "\n",
    "# PART 4: Preprocess Data\n",
    "# Remove outliers using Z-Score\n",
    "numeric_columns = ['Yield', 'Max_Temperature', 'Min_Temperature', 'Avg_Humidity']\n",
    "z_scores = np.abs((merged_data[numeric_columns] - merged_data[numeric_columns].mean()) / merged_data[numeric_columns].std())\n",
    "merged_data = merged_data[(z_scores < 3).all(axis=1)]\n",
    "\n",
    "# Standardize features (excluding target)\n",
    "scaler = StandardScaler()\n",
    "scaled_columns = ['Max_Temperature', 'Min_Temperature', 'Avg_Humidity']\n",
    "merged_data[scaled_columns] = scaler.fit_transform(merged_data[scaled_columns])\n",
    "\n",
    "# Encode categorical features\n",
    "merged_data = pd.get_dummies(merged_data, columns=['Crop'], drop_first=True)\n",
    "label_encoder = LabelEncoder()\n",
    "merged_data['Country'] = label_encoder.fit_transform(merged_data['Country'])\n",
    "\n",
    "# Save the scaler and encoder for later use\n",
    "joblib.dump(scaler, 'scaler.pkl')\n",
    "joblib.dump(label_encoder, 'label_encoder.pkl')\n",
    "\n",
    "# PART 5: Train Model\n",
    "X = merged_data.drop(columns=['Yield'])\n",
    "y = merged_data['Yield']\n",
    "\n",
    "# Ensure target variable is not scaled\n",
    "assert np.all(y >= 0), \"Target variable (Yield) contains negative values before model training.\"\n",
    "\n",
    "X_train, X_test, y_train, y_test = train_test_split(X, y, test_size=0.2, random_state=42)\n",
    "\n",
    "model = RandomForestRegressor(random_state=42)\n",
    "model.fit(X_train, y_train)\n",
    "\n",
    "# Evaluate Model\n",
    "y_pred = model.predict(X_test)\n",
    "\n",
    "# Ensure predictions are non-negative\n",
    "y_pred = np.maximum(y_pred, 0)\n",
    "\n",
    "print(\"Mean Absolute Error:\", mean_absolute_error(y_test, y_pred))\n",
    "print(\"R-squared:\", r2_score(y_test, y_pred))\n",
    "\n",
    "# Save the trained model\n",
    "joblib.dump(model, \"crop_yield_model.pkl\")\n",
    "print(\"Model saved as crop_yield_model.pkl\")"
   ]
  },
  {
   "cell_type": "code",
   "execution_count": 7,
   "id": "04a9e9b8-b016-4241-967e-19d99b8efa0e",
   "metadata": {},
   "outputs": [
    {
     "name": "stdout",
     "output_type": "stream",
     "text": [
      "Collecting pandas\n",
      "  Using cached pandas-2.2.3-cp313-cp313-macosx_11_0_arm64.whl.metadata (89 kB)\n",
      "Requirement already satisfied: numpy>=1.26.0 in /Users/anushreyshubham/.pyenv/versions/3.13.1/lib/python3.13/site-packages (from pandas) (2.2.1)\n",
      "Requirement already satisfied: python-dateutil>=2.8.2 in /Users/anushreyshubham/.pyenv/versions/3.13.1/lib/python3.13/site-packages (from pandas) (2.9.0.post0)\n",
      "Collecting pytz>=2020.1 (from pandas)\n",
      "  Using cached pytz-2024.2-py2.py3-none-any.whl.metadata (22 kB)\n",
      "Collecting tzdata>=2022.7 (from pandas)\n",
      "  Using cached tzdata-2024.2-py2.py3-none-any.whl.metadata (1.4 kB)\n",
      "Requirement already satisfied: six>=1.5 in /Users/anushreyshubham/.pyenv/versions/3.13.1/lib/python3.13/site-packages (from python-dateutil>=2.8.2->pandas) (1.17.0)\n",
      "Using cached pandas-2.2.3-cp313-cp313-macosx_11_0_arm64.whl (11.3 MB)\n",
      "Using cached pytz-2024.2-py2.py3-none-any.whl (508 kB)\n",
      "Using cached tzdata-2024.2-py2.py3-none-any.whl (346 kB)\n",
      "Installing collected packages: pytz, tzdata, pandas\n",
      "Successfully installed pandas-2.2.3 pytz-2024.2 tzdata-2024.2\n",
      "Note: you may need to restart the kernel to use updated packages.\n"
     ]
    }
   ],
   "source": [
    "pip install pandas\n"
   ]
  },
  {
   "cell_type": "code",
   "execution_count": 9,
   "id": "baa045e0-3927-4457-8788-d582fe999eee",
   "metadata": {},
   "outputs": [
    {
     "name": "stdout",
     "output_type": "stream",
     "text": [
      "Requirement already satisfied: numpy in /Users/anushreyshubham/.pyenv/versions/3.13.1/lib/python3.13/site-packages (2.2.1)\n",
      "Note: you may need to restart the kernel to use updated packages.\n"
     ]
    }
   ],
   "source": [
    "pip install numpy"
   ]
  },
  {
   "cell_type": "code",
   "execution_count": 11,
   "id": "1e42c508-abc7-4746-a0a6-c678361229b9",
   "metadata": {},
   "outputs": [
    {
     "name": "stdout",
     "output_type": "stream",
     "text": [
      "Requirement already satisfied: scikit-learn in /Users/anushreyshubham/.pyenv/versions/3.13.1/lib/python3.13/site-packages (1.6.1)\n",
      "Requirement already satisfied: numpy>=1.19.5 in /Users/anushreyshubham/.pyenv/versions/3.13.1/lib/python3.13/site-packages (from scikit-learn) (2.2.1)\n",
      "Requirement already satisfied: scipy>=1.6.0 in /Users/anushreyshubham/.pyenv/versions/3.13.1/lib/python3.13/site-packages (from scikit-learn) (1.15.1)\n",
      "Requirement already satisfied: joblib>=1.2.0 in /Users/anushreyshubham/.pyenv/versions/3.13.1/lib/python3.13/site-packages (from scikit-learn) (1.4.2)\n",
      "Requirement already satisfied: threadpoolctl>=3.1.0 in /Users/anushreyshubham/.pyenv/versions/3.13.1/lib/python3.13/site-packages (from scikit-learn) (3.5.0)\n",
      "Note: you may need to restart the kernel to use updated packages.\n"
     ]
    }
   ],
   "source": [
    "pip install scikit-learn"
   ]
  },
  {
   "cell_type": "code",
   "execution_count": null,
   "id": "290c2096-3840-4b94-87f1-c622a5f0740a",
   "metadata": {},
   "outputs": [],
   "source": []
  }
 ],
 "metadata": {
  "kernelspec": {
   "display_name": "Python (.venv)",
   "language": "python",
   "name": ".venv"
  },
  "language_info": {
   "codemirror_mode": {
    "name": "ipython",
    "version": 3
   },
   "file_extension": ".py",
   "mimetype": "text/x-python",
   "name": "python",
   "nbconvert_exporter": "python",
   "pygments_lexer": "ipython3",
   "version": "3.13.1"
  }
 },
 "nbformat": 4,
 "nbformat_minor": 5
}
